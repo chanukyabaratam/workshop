{
 "cells": [
  {
   "cell_type": "markdown",
   "metadata": {},
   "source": [
    "## Control Statements\n",
    " - conditional statements or selection statements\n",
    "    - "
   ]
  },
  {
   "cell_type": "code",
   "execution_count": 1,
   "metadata": {},
   "outputs": [
    {
     "name": "stdout",
     "output_type": "stream",
     "text": [
      "2019\n",
      "not a leap year\n"
     ]
    }
   ],
   "source": [
    "#check the input is leap year or not\n",
    "year=int(input(''))\n",
    "if year%400==0 or (year%100!=0 and year%4==0):\n",
    "    print('leap year')\n",
    "else:\n",
    "    print('not a leap year')"
   ]
  },
  {
   "cell_type": "code",
   "execution_count": 2,
   "metadata": {},
   "outputs": [
    {
     "name": "stdout",
     "output_type": "stream",
     "text": [
      "enter a number10\n",
      "1 2 3 4 5 6 7 8 9 10 "
     ]
    }
   ],
   "source": [
    "#print numbers from 1 to N\n",
    "#input : 10\n",
    "#output : 1 2 3 4 5 ......10\n",
    "n=int(input('enter a number'))\n",
    "i=1\n",
    "while i<=n:\n",
    "    print(i,end=\" \")\n",
    "    i=i+1"
   ]
  },
  {
   "cell_type": "code",
   "execution_count": 1,
   "metadata": {},
   "outputs": [
    {
     "name": "stdout",
     "output_type": "stream",
     "text": [
      "10\n",
      "\n",
      "30\n"
     ]
    }
   ],
   "source": [
    "#read a number as input\n",
    "#output as only even number sum from 1 to N\n",
    "\n",
    "#input : 10\n",
    "#output :30(2+4+6+8+10)\n",
    "n=int(input(''))\n",
    "i=1\n",
    "s=0\n",
    "while i<=n:\n",
    "    if i%2==0:\n",
    "        s=s+i\n",
    "    i=i+1\n",
    "print()\n",
    "print(s)"
   ]
  },
  {
   "cell_type": "code",
   "execution_count": 4,
   "metadata": {},
   "outputs": [
    {
     "name": "stdout",
     "output_type": "stream",
     "text": [
      "123\n",
      "3 2 1 "
     ]
    }
   ],
   "source": [
    "#read a number as input\n",
    "#output has be digits of the number\n",
    "\n",
    "#input: 123\n",
    "#output:3 2 1\n",
    "n=int(input(''))\n",
    "while n!=0:\n",
    "    print(n%10,end=' ')\n",
    "    n=n//10"
   ]
  },
  {
   "cell_type": "markdown",
   "metadata": {},
   "source": [
    "### functional programming\n",
    " - simple\n",
    " - easy understand\n",
    " - better reuseability\n",
    " - lengthy proogram will be divided into sub programs\n"
   ]
  },
  {
   "cell_type": "code",
   "execution_count": 24,
   "metadata": {},
   "outputs": [
    {
     "data": {
      "text/plain": [
       "6"
      ]
     },
     "execution_count": 24,
     "metadata": {},
     "output_type": "execute_result"
    }
   ],
   "source": [
    "def evenDigitsSum(n):\n",
    "    s=0\n",
    "    while n!=0:\n",
    "        r=n%10\n",
    "        if r%2==0:\n",
    "            s=s+r\n",
    "        n=n//10\n",
    "    return s\n",
    "evenDigitsSum(1234)"
   ]
  },
  {
   "cell_type": "code",
   "execution_count": 31,
   "metadata": {},
   "outputs": [
    {
     "data": {
      "text/plain": [
       "9"
      ]
     },
     "execution_count": 31,
     "metadata": {},
     "output_type": "execute_result"
    }
   ],
   "source": [
    "#input:19532\n",
    "#output:9(large digit of the given number)\n",
    "#functional programming\n",
    "def largeDigit(n):\n",
    "    large=0\n",
    "    while(n!=0):\n",
    "        r=n%10\n",
    "        if r>large:\n",
    "            large=r\n",
    "        n//=10\n",
    "    return large\n",
    "largeDigit(19532)\n",
    "  \n"
   ]
  },
  {
   "cell_type": "code",
   "execution_count": 103,
   "metadata": {},
   "outputs": [
    {
     "ename": "SyntaxError",
     "evalue": "'return' outside function (<ipython-input-103-c6638f61f22c>, line 21)",
     "output_type": "error",
     "traceback": [
      "\u001b[1;36m  File \u001b[1;32m\"<ipython-input-103-c6638f61f22c>\"\u001b[1;36m, line \u001b[1;32m21\u001b[0m\n\u001b[1;33m    return (\"yes\")\u001b[0m\n\u001b[1;37m    ^\u001b[0m\n\u001b[1;31mSyntaxError\u001b[0m\u001b[1;31m:\u001b[0m 'return' outside function\n"
     ]
    }
   ],
   "source": [
    "#read a number as input\n",
    "#output yes or no\n",
    "\n",
    "#input:145\n",
    "#output:yes\n",
    "\n",
    "#input:123\n",
    "#output:no    \n",
    "def factsum(n):\n",
    "    s=0\n",
    "    buffer=n\n",
    "    while(n!=0):\n",
    "        r=n%10\n",
    "        f=1\n",
    "        for j in range(1,r+1):\n",
    "            f=f*j\n",
    "        s=s+f\n",
    "        n=n//10\n",
    "    print(s)\n",
    "if buffer==s:\n",
    "    return (\"yes\")\n",
    "else:\n",
    "    return (\"no\")\n",
    "n=int(input())\n",
    "factsum(n)"
   ]
  },
  {
   "cell_type": "code",
   "execution_count": 106,
   "metadata": {},
   "outputs": [
    {
     "name": "stdout",
     "output_type": "stream",
     "text": [
      "yes\n"
     ]
    }
   ],
   "source": [
    "def pall_or_not(n):\n",
    "    sum=0\n",
    "    num=n\n",
    "    while(n!=0):\n",
    "        rev=n%10\n",
    "        sum=sum*10+rev\n",
    "        n//=10\n",
    "    if(num==sum):\n",
    "        print(\"yes\")\n",
    "    else:\n",
    "        print(\"no\")\n",
    "pall_or_not(121)"
   ]
  },
  {
   "cell_type": "code",
   "execution_count": 114,
   "metadata": {},
   "outputs": [
    {
     "name": "stdout",
     "output_type": "stream",
     "text": [
      "11 12 13 14 15 16 17 18 19 20 21 22 23 24 25 "
     ]
    }
   ],
   "source": [
    "def printseries(l,u):\n",
    "    for x in range(l,u+1):\n",
    "        print(x,end=' ')\n",
    "    return\n",
    "printseries(11,25)"
   ]
  },
  {
   "cell_type": "code",
   "execution_count": null,
   "metadata": {},
   "outputs": [],
   "source": []
  },
  {
   "cell_type": "code",
   "execution_count": null,
   "metadata": {},
   "outputs": [],
   "source": []
  },
  {
   "cell_type": "code",
   "execution_count": null,
   "metadata": {},
   "outputs": [],
   "source": []
  },
  {
   "cell_type": "code",
   "execution_count": null,
   "metadata": {},
   "outputs": [],
   "source": []
  }
 ],
 "metadata": {
  "kernelspec": {
   "display_name": "Python 3",
   "language": "python",
   "name": "python3"
  },
  "language_info": {
   "codemirror_mode": {
    "name": "ipython",
    "version": 3
   },
   "file_extension": ".py",
   "mimetype": "text/x-python",
   "name": "python",
   "nbconvert_exporter": "python",
   "pygments_lexer": "ipython3",
   "version": "3.7.3"
  }
 },
 "nbformat": 4,
 "nbformat_minor": 2
}

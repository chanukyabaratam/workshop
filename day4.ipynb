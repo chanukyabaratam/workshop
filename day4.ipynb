{
 "cells": [
  {
   "cell_type": "markdown",
   "metadata": {},
   "source": [
    "### string boolean function\n",
    " - true or false\n",
    " - islower()--true if the string have all characters lower case\n",
    " - isupper()--true if the string have all characters upper case\n",
    " - istitle()--true if the string in title case\n",
    " - isnumeric()--true if the string  numeric\n",
    " - isalpha()--true if the string only alphabets\n",
    " - isspace()--true if the string is space"
   ]
  },
  {
   "cell_type": "code",
   "execution_count": 2,
   "metadata": {},
   "outputs": [
    {
     "name": "stdout",
     "output_type": "stream",
     "text": [
      "True\n",
      "False\n"
     ]
    }
   ],
   "source": [
    "s1=\"python\"\n",
    "print(s1.islower())\n",
    "print(s1.isupper())"
   ]
  },
  {
   "cell_type": "code",
   "execution_count": 5,
   "metadata": {},
   "outputs": [
    {
     "name": "stdout",
     "output_type": "stream",
     "text": [
      "True\n"
     ]
    }
   ],
   "source": [
    "s1=\"Python Programming\"\n",
    "print(s1.istitle())"
   ]
  },
  {
   "cell_type": "code",
   "execution_count": 12,
   "metadata": {},
   "outputs": [
    {
     "name": "stdout",
     "output_type": "stream",
     "text": [
      "True\n",
      "False\n"
     ]
    }
   ],
   "source": [
    "s1=\"123456\"\n",
    "s2=\"python\"\n",
    "print(s1.isnumeric())\n",
    "print(s2.isnumeric())"
   ]
  },
  {
   "cell_type": "code",
   "execution_count": 10,
   "metadata": {},
   "outputs": [
    {
     "name": "stdout",
     "output_type": "stream",
     "text": [
      "False\n",
      "True\n"
     ]
    }
   ],
   "source": [
    "s1=\"123456\"\n",
    "s2=\"python\"\n",
    "print(s1.isalpha())\n",
    "print(s2.isalpha())"
   ]
  },
  {
   "cell_type": "code",
   "execution_count": 13,
   "metadata": {},
   "outputs": [
    {
     "name": "stdout",
     "output_type": "stream",
     "text": [
      "True\n",
      "False\n"
     ]
    }
   ],
   "source": [
    "s1=\" \"\n",
    "s2=\"1 2 3 \"\n",
    "print(s1.isspace())\n",
    "print(s2.isspace())"
   ]
  },
  {
   "cell_type": "markdown",
   "metadata": {},
   "source": [
    "### string methods\n",
    "- split()--returns the list of strings sepereated by whitespace\n",
    "- replace()--returns the string replaces by word/character\n",
    "- join()--concatination of two strings"
   ]
  },
  {
   "cell_type": "code",
   "execution_count": 12,
   "metadata": {},
   "outputs": [
    {
     "data": {
      "text/plain": [
       "['python', 'programming', 'learn', 'made', 'easy']"
      ]
     },
     "execution_count": 12,
     "metadata": {},
     "output_type": "execute_result"
    }
   ],
   "source": [
    "s1=\"python programming learn made easy\"\n",
    "li=s1.split()\n",
    "li"
   ]
  },
  {
   "cell_type": "code",
   "execution_count": 14,
   "metadata": {},
   "outputs": [
    {
     "data": {
      "text/plain": [
       "['python progr', 'mming le', 'rn m', 'de e', 'sy']"
      ]
     },
     "execution_count": 14,
     "metadata": {},
     "output_type": "execute_result"
    }
   ],
   "source": [
    "s1=\"python programming learn made easy\"\n",
    "li=s1.split('a')\n",
    "li"
   ]
  },
  {
   "cell_type": "code",
   "execution_count": 18,
   "metadata": {},
   "outputs": [
    {
     "name": "stdout",
     "output_type": "stream",
     "text": [
      "python_programming_learn_made_easy\n"
     ]
    }
   ],
   "source": [
    "s1=\"python programming learn made easy\"\n",
    "print(s1.replace(' ','_'))"
   ]
  },
  {
   "cell_type": "code",
   "execution_count": 1,
   "metadata": {},
   "outputs": [
    {
     "name": "stdout",
     "output_type": "stream",
     "text": [
      "python progr@mming le@rn m@de e@sy\n"
     ]
    }
   ],
   "source": [
    "s1=\"python programming learn made easy\"\n",
    "print(s1.replace('a','@'))"
   ]
  },
  {
   "cell_type": "code",
   "execution_count": 19,
   "metadata": {},
   "outputs": [
    {
     "name": "stdout",
     "output_type": "stream",
     "text": [
      "<built-in method join of str object at 0x000001495C3E2660>\n"
     ]
    }
   ],
   "source": [
    "s1=\"python programming learn made easy\"\n",
    "print(s1.join)"
   ]
  },
  {
   "cell_type": "markdown",
   "metadata": {},
   "source": [
    "### string formatting\n",
    "- classic version\n",
    "- current version python"
   ]
  },
  {
   "cell_type": "code",
   "execution_count": 30,
   "metadata": {},
   "outputs": [
    {
     "name": "stdout",
     "output_type": "stream",
     "text": [
      "python programming\n"
     ]
    }
   ],
   "source": [
    "#classic version of (C or C++)\n",
    "li=[\"python\",\"programming\"]\n",
    "print('%s %s'%(li[0],li[1]))"
   ]
  },
  {
   "cell_type": "code",
   "execution_count": 26,
   "metadata": {
    "scrolled": true
   },
   "outputs": [
    {
     "name": "stdout",
     "output_type": "stream",
     "text": [
      "1 2 3 4\n"
     ]
    }
   ],
   "source": [
    "li=[1,2,3,4]\n",
    "print('%d %d %d %d'%(li[0],li[1],li[2],li[3]))"
   ]
  },
  {
   "cell_type": "code",
   "execution_count": 7,
   "metadata": {},
   "outputs": [
    {
     "name": "stdout",
     "output_type": "stream",
     "text": [
      "list item 0 :python \n",
      "list item 1:programming\n"
     ]
    }
   ],
   "source": [
    "# .fornat\n",
    "li=[\"python\",\"programming\"]\n",
    "print(\"list item 0 :{0} \\nlist item 1:{1}\".format(li[0],li[1]))"
   ]
  },
  {
   "cell_type": "markdown",
   "metadata": {},
   "source": [
    "### dictionaries\n",
    "- it works on concept of unique data\n",
    "- key value is the unique identifier a value"
   ]
  },
  {
   "cell_type": "code",
   "execution_count": 80,
   "metadata": {},
   "outputs": [
    {
     "name": "stdout",
     "output_type": "stream",
     "text": [
      "{'name': 'chanu', 'emailID': 'baratamchanukya2001@gmail.com', 'address': 'vizag'}\n"
     ]
    }
   ],
   "source": [
    "d1={\"name\":\"chanu\",\"emailID\":\"baratamchanukya2001@gmail.com\",\"address\":\"vizag\"}\n",
    "print(d1)"
   ]
  },
  {
   "cell_type": "code",
   "execution_count": 83,
   "metadata": {},
   "outputs": [
    {
     "data": {
      "text/plain": [
       "'chanu.kpm@gmail.com'"
      ]
     },
     "execution_count": 83,
     "metadata": {},
     "output_type": "execute_result"
    }
   ],
   "source": [
    "d1[\"emailID\"]"
   ]
  },
  {
   "cell_type": "code",
   "execution_count": 82,
   "metadata": {},
   "outputs": [
    {
     "data": {
      "text/plain": [
       "'chanu.kpm@gmail.com'"
      ]
     },
     "execution_count": 82,
     "metadata": {},
     "output_type": "execute_result"
    }
   ],
   "source": [
    "d1[\"emailID\"]=\"chanu.kpm@gmail.com\"\n",
    "d1[\"emailID\"]"
   ]
  },
  {
   "cell_type": "code",
   "execution_count": 85,
   "metadata": {
    "scrolled": true
   },
   "outputs": [
    {
     "data": {
      "text/plain": [
       "dict_keys(['name', 'emailID', 'address'])"
      ]
     },
     "execution_count": 85,
     "metadata": {},
     "output_type": "execute_result"
    }
   ],
   "source": [
    "d1.keys()\n"
   ]
  },
  {
   "cell_type": "code",
   "execution_count": 86,
   "metadata": {},
   "outputs": [],
   "source": [
    "del d1[\"address\"]"
   ]
  },
  {
   "cell_type": "code",
   "execution_count": 87,
   "metadata": {},
   "outputs": [
    {
     "data": {
      "text/plain": [
       "dict_values(['chanu', 'chanu.kpm@gmail.com'])"
      ]
     },
     "execution_count": 87,
     "metadata": {},
     "output_type": "execute_result"
    }
   ],
   "source": [
    "d1.values()"
   ]
  },
  {
   "cell_type": "code",
   "execution_count": 88,
   "metadata": {},
   "outputs": [
    {
     "data": {
      "text/plain": [
       "{'name': 'chanu', 'emailID': 'chanu.kpm@gmail.com'}"
      ]
     },
     "execution_count": 88,
     "metadata": {},
     "output_type": "execute_result"
    }
   ],
   "source": [
    "d1"
   ]
  },
  {
   "cell_type": "markdown",
   "metadata": {},
   "source": [
    "### contact application\n",
    "- add contact details\n",
    "\n"
   ]
  },
  {
   "cell_type": "code",
   "execution_count": 5,
   "metadata": {},
   "outputs": [
    {
     "name": "stdout",
     "output_type": "stream",
     "text": [
      "contact details are added successfully\n",
      "contact details are added successfully\n",
      "name is already exists\n"
     ]
    }
   ],
   "source": [
    "contacts={} #empty dict object\n",
    "#lets create a function to add contact details\n",
    "def addcontact(name,phone):\n",
    "    if name not in contacts:\n",
    "        contacts[name]=phone\n",
    "        print('contact details are added successfully')\n",
    "    else:\n",
    "        print('name is already exists')\n",
    "    return\n",
    "addcontact('amma','8985385765')\n",
    "addcontact('dad','9441013672')\n",
    "addcontact('dad','9441013672')"
   ]
  },
  {
   "cell_type": "code",
   "execution_count": 44,
   "metadata": {},
   "outputs": [
    {
     "name": "stdout",
     "output_type": "stream",
     "text": [
      "vasu contact is not saved\n",
      "dad : 9441013672\n"
     ]
    }
   ],
   "source": [
    "def searchcontact(name):\n",
    "    if name in contacts:\n",
    "        print(name,\":\",contacts[name])\n",
    "    else:\n",
    "        print('{0} contact is not saved'.format(name))\n",
    "    return\n",
    "searchcontact('vasu')\n",
    "searchcontact('dad')"
   ]
  },
  {
   "cell_type": "code",
   "execution_count": 6,
   "metadata": {},
   "outputs": [
    {
     "name": "stdout",
     "output_type": "stream",
     "text": [
      "1 contact is added\n"
     ]
    }
   ],
   "source": [
    "def importcontacts(newcontacts):\n",
    "    contacts.update(newcontacts)\n",
    "    print(len(newcontacts.keys()),'contact is added')\n",
    "    return\n",
    "newcontacts={'nani':9533591347}\n",
    "importcontacts(newcontacts)"
   ]
  },
  {
   "cell_type": "code",
   "execution_count": 7,
   "metadata": {},
   "outputs": [
    {
     "name": "stdout",
     "output_type": "stream",
     "text": [
      "nani updated successfully\n",
      "vijay not exits\n"
     ]
    }
   ],
   "source": [
    "def modifycontact(name,phone):\n",
    "    if name in contacts:\n",
    "        contacts[name]=phone\n",
    "        print(name,'updated successfully')\n",
    "    else:\n",
    "        print(name,'not exits')\n",
    "    return\n",
    "modifycontact('nani',9547896541)\n",
    "modifycontact('vijay',6542319876)"
   ]
  },
  {
   "cell_type": "markdown",
   "metadata": {},
   "source": [
    "### standard libraries\n",
    "- regular expressions\n",
    "   - to validate the user name\n",
    "   - to validate the password\n",
    "   - to validate the emailID\n",
    "   - to validate the indian mobile\n",
    " "
   ]
  },
  {
   "cell_type": "code",
   "execution_count": 2,
   "metadata": {},
   "outputs": [
    {
     "name": "stdout",
     "output_type": "stream",
     "text": [
      "True\n",
      "False\n"
     ]
    }
   ],
   "source": [
    "import re\n",
    "def twodigitmatching(n):\n",
    "    pattern='^[0-9]{2}$'\n",
    "    n=str(n)\n",
    "    if re.match(pattern,n):\n",
    "        return True\n",
    "    return False\n",
    "print(twodigitmatching(26))\n",
    "print(twodigitmatching(266))"
   ]
  },
  {
   "cell_type": "code",
   "execution_count": 9,
   "metadata": {},
   "outputs": [
    {
     "name": "stdout",
     "output_type": "stream",
     "text": [
      "False\n",
      "True\n",
      "False\n"
     ]
    }
   ],
   "source": [
    "def validateusername(s):\n",
    "    pattern='^[a-zA-Z]{5,12}$'\n",
    "    if re.match(pattern,s):\n",
    "        return True\n",
    "    return False\n",
    "print(validateusername('vasu'))\n",
    "print(validateusername('chiru'))\n",
    "print(validateusername('gitam university'))"
   ]
  },
  {
   "cell_type": "markdown",
   "metadata": {},
   "source": [
    "### REGULAR EXPRESSION FOR INDIAN MOBILE\n",
    "- 10 digit number\n",
    "  - first number is starts from [6-9]\n",
    "  - rest of 9 numbers is between[0-9]\n",
    "   - ex: 9441013672 #true\n",
    "   - ex: 3268945612 #false\n",
    "- 13 digit Number\n",
    " - first number can be +\n",
    " - second number 9\n",
    " - third number 1\n",
    " - fourth number"
   ]
  },
  {
   "cell_type": "code",
   "execution_count": 23,
   "metadata": {},
   "outputs": [
    {
     "data": {
      "text/plain": [
       "True"
      ]
     },
     "execution_count": 23,
     "metadata": {},
     "output_type": "execute_result"
    }
   ],
   "source": [
    "import re\n",
    "def validateIndianPhone(n):\n",
    "    pattern='^[6-9][0-9]{9}$|^[0][6-9][0-9]{9}$|^[+][9][1][6-9][0-9]{9}$'\n",
    "    n=str(n)\n",
    "    if re.match(pattern,n):\n",
    "        return True\n",
    "    return False\n",
    "validateIndianPhone('+918985385765')"
   ]
  },
  {
   "cell_type": "markdown",
   "metadata": {},
   "source": [
    "### validate the Email ID\n",
    "- ex :username@DomainName.extention\n",
    "- ex :dsps@gmail.com\n",
    "- Username : \n",
    "  - len of string be [6-15]\n",
    "  - no special characters expect (_) and (.)\n",
    "  - username should not designs with underscore(_)\n",
    "  - all characters set digits,lower case and upper case\n",
    "   - ex:chanu_7170\n",
    "- domain name\n",
    " - length of a string should be [3-18]\n",
    " - no spl characters \n",
    " - characters set will be digits,lower case and upper case\n",
    "   - ex:gmail,hotmail,ymail etc,........\n",
    "- extentions:\n",
    " - lenof string will be [2-4]\n",
    " - no spl characters allowed\n",
    " - character set will lower case character\n",
    "   - ex:com in au uk"
   ]
  },
  {
   "cell_type": "code",
   "execution_count": null,
   "metadata": {},
   "outputs": [],
   "source": []
  },
  {
   "cell_type": "code",
   "execution_count": 1,
   "metadata": {},
   "outputs": [
    {
     "data": {
      "text/plain": [
       "123"
      ]
     },
     "execution_count": 1,
     "metadata": {},
     "output_type": "execute_result"
    }
   ],
   "source": [
    "import math # imports all the functions into python program\n",
    "math.floor(123.456)\n"
   ]
  },
  {
   "cell_type": "code",
   "execution_count": 10,
   "metadata": {},
   "outputs": [
    {
     "data": {
      "text/plain": [
       "124"
      ]
     },
     "execution_count": 10,
     "metadata": {},
     "output_type": "execute_result"
    }
   ],
   "source": [
    "math.ceil(123.456)"
   ]
  },
  {
   "cell_type": "code",
   "execution_count": 11,
   "metadata": {},
   "outputs": [
    {
     "data": {
      "text/plain": [
       "3628800"
      ]
     },
     "execution_count": 11,
     "metadata": {},
     "output_type": "execute_result"
    }
   ],
   "source": [
    "from math import factorial as fact\n",
    "#as fact alias name\n",
    "fact(10)"
   ]
  },
  {
   "cell_type": "code",
   "execution_count": null,
   "metadata": {},
   "outputs": [],
   "source": [
    "from random import randint as rdint\n",
    "def generatenumber(n,lb,ub):\n",
    "    li=[]\n",
    "    for i in range(0,n):\n",
    "        li,append(rdint(lb,ub))\n",
    "    return li\n",
    "def check(n):\n",
    "    li=generatenumber(20,100,999)\n",
    "    if n in li:\n",
    "        print('')\n",
    "    "
   ]
  },
  {
   "cell_type": "code",
   "execution_count": null,
   "metadata": {},
   "outputs": [],
   "source": []
  },
  {
   "cell_type": "code",
   "execution_count": null,
   "metadata": {},
   "outputs": [],
   "source": []
  },
  {
   "cell_type": "code",
   "execution_count": null,
   "metadata": {},
   "outputs": [],
   "source": []
  },
  {
   "cell_type": "code",
   "execution_count": null,
   "metadata": {},
   "outputs": [],
   "source": []
  },
  {
   "cell_type": "code",
   "execution_count": null,
   "metadata": {},
   "outputs": [],
   "source": []
  },
  {
   "cell_type": "code",
   "execution_count": null,
   "metadata": {},
   "outputs": [],
   "source": []
  },
  {
   "cell_type": "code",
   "execution_count": null,
   "metadata": {},
   "outputs": [],
   "source": []
  },
  {
   "cell_type": "code",
   "execution_count": null,
   "metadata": {},
   "outputs": [],
   "source": []
  }
 ],
 "metadata": {
  "kernelspec": {
   "display_name": "Python 3",
   "language": "python",
   "name": "python3"
  },
  "language_info": {
   "codemirror_mode": {
    "name": "ipython",
    "version": 3
   },
   "file_extension": ".py",
   "mimetype": "text/x-python",
   "name": "python",
   "nbconvert_exporter": "python",
   "pygments_lexer": "ipython3",
   "version": "3.7.3"
  }
 },
 "nbformat": 4,
 "nbformat_minor": 2
}

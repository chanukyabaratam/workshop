{
 "cells": [
  {
   "cell_type": "markdown",
   "metadata": {},
   "source": [
    "### programming in python using strings\n",
    " - strings\n",
    " - string slicing\n",
    " - fundamental programs and examples with strings"
   ]
  },
  {
   "cell_type": "code",
   "execution_count": 1,
   "metadata": {},
   "outputs": [
    {
     "name": "stdout",
     "output_type": "stream",
     "text": [
      "python\n",
      "programming\n",
      "A\n",
      "<class 'str'>\n",
      "<class 'str'>\n",
      "<class 'str'>\n"
     ]
    }
   ],
   "source": [
    "s1='python'\n",
    "s2='programming'\n",
    "s3='A'\n",
    "print(s1)\n",
    "print(s2)\n",
    "print(s3)\n",
    "print(type(s1))\n",
    "print(type(s2))\n",
    "print(type(s3))"
   ]
  },
  {
   "cell_type": "markdown",
   "metadata": {},
   "source": [
    "### string slicing"
   ]
  },
  {
   "cell_type": "code",
   "execution_count": 14,
   "metadata": {},
   "outputs": [
    {
     "name": "stdout",
     "output_type": "stream",
     "text": [
      "p\n",
      "y\n",
      "6\n",
      "n\n",
      "n\n",
      "o\n"
     ]
    }
   ],
   "source": [
    "s1=\"python\"\n",
    "print(s1[0]) # accesing the first charecter in string\n",
    "print(s1[1]) #accesing thesecond charecter in string\n",
    "print(len(s1))\n",
    "print(s1[len(s1)-1])\n",
    "print(s1[-1])\n",
    "print(s1[-2])"
   ]
  },
  {
   "cell_type": "code",
   "execution_count": 27,
   "metadata": {},
   "outputs": [
    {
     "name": "stdout",
     "output_type": "stream",
     "text": [
      "py\n",
      "on\n",
      "hon\n",
      "tho\n",
      "ytho\n"
     ]
    }
   ],
   "source": [
    "print(s1[0:2])#access the first two characters\n",
    "print(s1[-2:])#access the last two characters\n",
    "print(s1[3:])#access the character from 3 till last\n",
    "print(s1[2:5])\n",
    "print(s1[1:-1])"
   ]
  },
  {
   "cell_type": "code",
   "execution_count": 28,
   "metadata": {},
   "outputs": [
    {
     "data": {
      "text/plain": [
       "'nohtyp'"
      ]
     },
     "execution_count": 28,
     "metadata": {},
     "output_type": "execute_result"
    }
   ],
   "source": [
    "s1[-1::-1] # Reverse the string"
   ]
  },
  {
   "cell_type": "code",
   "execution_count": 29,
   "metadata": {},
   "outputs": [
    {
     "data": {
      "text/plain": [
       "'pto'"
      ]
     },
     "execution_count": 29,
     "metadata": {},
     "output_type": "execute_result"
    }
   ],
   "source": [
    "# Access the characters in string alternate\n",
    "# python -- pto\n",
    "s1[::2]"
   ]
  },
  {
   "cell_type": "code",
   "execution_count": 33,
   "metadata": {},
   "outputs": [
    {
     "data": {
      "text/plain": [
       "'nhy'"
      ]
     },
     "execution_count": 33,
     "metadata": {},
     "output_type": "execute_result"
    }
   ],
   "source": [
    "#Access the alternate characters from reverse direction\n",
    "# python--nhy\n",
    "s1[::-2]"
   ]
  },
  {
   "cell_type": "code",
   "execution_count": 31,
   "metadata": {},
   "outputs": [
    {
     "data": {
      "text/plain": [
       "'ph'"
      ]
     },
     "execution_count": 31,
     "metadata": {},
     "output_type": "execute_result"
    }
   ],
   "source": [
    "s1[::3]"
   ]
  },
  {
   "cell_type": "markdown",
   "metadata": {},
   "source": [
    "### functions with string operations"
   ]
  },
  {
   "cell_type": "code",
   "execution_count": 34,
   "metadata": {},
   "outputs": [
    {
     "data": {
      "text/plain": [
       "'nohtyp'"
      ]
     },
     "execution_count": 34,
     "metadata": {},
     "output_type": "execute_result"
    }
   ],
   "source": [
    "# reverse the string\n",
    "def reversestr(s):\n",
    "    return s[-1::-1]\n",
    "reversestr('python')\n"
   ]
  },
  {
   "cell_type": "code",
   "execution_count": 51,
   "metadata": {},
   "outputs": [
    {
     "name": "stdout",
     "output_type": "stream",
     "text": [
      "False\n",
      "True\n"
     ]
    }
   ],
   "source": [
    "# To check the given string is palindrome or not\n",
    "def ispalindrome(s):\n",
    "    if s==s[-1::-1]:\n",
    "        return True\n",
    "    return False\n",
    "print(ispalindrome('python'))\n",
    "print(ispalindrome('ganag'))"
   ]
  },
  {
   "cell_type": "code",
   "execution_count": 113,
   "metadata": {},
   "outputs": [
    {
     "name": "stdout",
     "output_type": "stream",
     "text": [
      "y h o n "
     ]
    }
   ],
   "source": [
    "# function to print the upper case characters\n",
    "#example : PyThon--P T\n",
    "\n",
    "# ASCII\n",
    "# A-Z :65-90\n",
    "# a-z :97-122\n",
    "# 0-9 :48-57\n",
    "#space:32\n",
    "def printupper(s):\n",
    "    for i in range(len(s)):\n",
    "        if ord(s[i])>=97 and ord(s[i])<=122: # The (ord) function is usde to give the ASCII value for any given character\n",
    "            print(s[i],end=' ')\n",
    "    return\n",
    "printupper('PyThon')"
   ]
  },
  {
   "cell_type": "code",
   "execution_count": 92,
   "metadata": {
    "scrolled": true
   },
   "outputs": [
    {
     "name": "stdout",
     "output_type": "stream",
     "text": [
      "enter a word  python\\\n",
      "Programming\n"
     ]
    }
   ],
   "source": [
    "# Function to return the output as \"SameCount\" or \"Programming\"\n",
    "#SameCount --lower and upper character have same count\n",
    "#Programming -- count of lower and upper  case is not same\n",
    "\n",
    "# example #1 :PyThOn--2 P T O\n",
    "#                   --4 y h n\n",
    "#output: SameCount\n",
    "\n",
    "#Example #2:PythoN--2 P N\n",
    "#                 --4 y t h o\n",
    "#output:Programming\n",
    "def func(s):\n",
    "    uc=0\n",
    "    lc=0\n",
    "    for i in range(len(s)):\n",
    "        if(ord(s[i])>=97) and (ord(s[i])<=122):\n",
    "            lc=lc+1\n",
    "        if(ord(s[i])>=65) and (ord(s[i])<=90):\n",
    "            uc=uc+1\n",
    "    if(uc==lc):\n",
    "        print('SameCount')\n",
    "    else:\n",
    "        print('Programming')\n",
    "s=input('enter a word  ')\n",
    "func(s)\n",
    "    \n",
    "\n",
    "        "
   ]
  },
  {
   "cell_type": "code",
   "execution_count": 93,
   "metadata": {},
   "outputs": [
    {
     "name": "stdout",
     "output_type": "stream",
     "text": [
      "1 8 8 9 "
     ]
    }
   ],
   "source": [
    "# function to extract the digits from the string\n",
    "# example #1:\n",
    "#input:Appli18cation89\n",
    "#output:1889\n",
    "def printnumbers(s):\n",
    "    for i in range(len(s)):\n",
    "        if ord(s[i])>=48 and ord(s[i])<=57: # The (ord) function is usde to give the ASCII value for any given character\n",
    "            print(s[i],end=' ')\n",
    "    return\n",
    "printnumbers('Appli18cation89')"
   ]
  },
  {
   "cell_type": "code",
   "execution_count": 112,
   "metadata": {},
   "outputs": [
    {
     "name": "stdout",
     "output_type": "stream",
     "text": [
      "26\n"
     ]
    }
   ],
   "source": [
    "# function to the add the digits of the string\n",
    "#example #1:\n",
    "#input:Appli18cation89\n",
    "#output:26(1+8+8+9)\n",
    "def printsumdigits(s):\n",
    "    sum=0\n",
    "    for i in range(len(s)):\n",
    "        if ord(s[i])>=48 and ord(s[i])<=57: # The (ord) function is usde to give the ASCII value for any given character\n",
    "            sum=sum+ord(s[i])-48\n",
    "    print(sum)\n",
    "    return\n",
    "printsumdigits('Appli18cation89')"
   ]
  },
  {
   "cell_type": "code",
   "execution_count": 1,
   "metadata": {},
   "outputs": [
    {
     "name": "stdout",
     "output_type": "stream",
     "text": [
      "MADE"
     ]
    }
   ],
   "source": [
    "#function to print 2nd word in upper case\n",
    "#example #1:\n",
    "#input:python made easy\n",
    "#output:MADE\n",
    "\n",
    "#example #2:\n",
    "#input:learn python strings\n",
    "#output:PYTHON\n",
    "def secondwordinUC(s):\n",
    "    cntspace=0\n",
    "    for i in range(len(s)):\n",
    "        if ord(s[i])==32:\n",
    "            cntspace+=1\n",
    "        if cntspace==1:\n",
    "            if ord(s[i])>=65 and ord(s[i])<=90:\n",
    "                print(s[i],end='')\n",
    "            elif ord(s[i])>=97 and ord(s[i])<=122:\n",
    "                print(chr(ord(s[i])-32),end='')\n",
    "        if cntspace==2:\n",
    "            break\n",
    "    return\n",
    "secondwordinUC('python made easy')\n",
    "        \n"
   ]
  },
  {
   "cell_type": "code",
   "execution_count": null,
   "metadata": {},
   "outputs": [],
   "source": []
  },
  {
   "cell_type": "markdown",
   "metadata": {},
   "source": [
    "### list\n",
    " - one of the data structure(DS) in python\n",
    " - data structure means to store,sort and search options\n",
    " - its one common DS inpython the items of list separated by comma and enclosed in square brackets[]\n",
    "  - example\n",
    "   - list = [1,2,3,4,5]\n",
    "   - list2=[\"Gitam\",1,2,\"vizag]\n",
    "   "
   ]
  },
  {
   "cell_type": "code",
   "execution_count": 124,
   "metadata": {},
   "outputs": [
    {
     "name": "stdout",
     "output_type": "stream",
     "text": [
      "[7, 1, 7, 0]\n",
      "7\n",
      "7\n",
      "[7, 1, 7]\n",
      "[1, 7]\n"
     ]
    }
   ],
   "source": [
    "lis=[7,1,7,0]\n",
    "print(lis)\n",
    "print(lis[0])\n",
    "print(lis[2])\n",
    "print(lis[0:3])\n",
    "print(lis[1:3])\n"
   ]
  },
  {
   "cell_type": "code",
   "execution_count": 6,
   "metadata": {
    "scrolled": true
   },
   "outputs": [
    {
     "name": "stdout",
     "output_type": "stream",
     "text": [
      "5\n",
      "[1, 2, 3, 4, 5, 1, 2, 3, 4, 5]\n",
      "True\n",
      "False\n"
     ]
    }
   ],
   "source": [
    "#basic list operations\n",
    "li=[1,2,3,4,5]\n",
    "#len of the list\n",
    "print(len(li))\n",
    "#list Repitation\n",
    "print(li*2)\n",
    "print(4 in li)\n",
    "print(10 in li)\n"
   ]
  },
  {
   "cell_type": "code",
   "execution_count": 128,
   "metadata": {},
   "outputs": [
    {
     "name": "stdout",
     "output_type": "stream",
     "text": [
      "854\n",
      "3\n",
      "1011\n",
      "252\n"
     ]
    }
   ],
   "source": [
    "#basic list functions\n",
    "li=[65,89,3,854]\n",
    "print(max(li))#max number of list\n",
    "print(min(li))#min number of list\n",
    "print(sum(li))#sum of all list elements\n",
    "print(sum(li)//len(li))#avg of list items"
   ]
  },
  {
   "cell_type": "code",
   "execution_count": 20,
   "metadata": {},
   "outputs": [
    {
     "data": {
      "text/plain": [
       "[21, 65, 56, 89, 36, 29, 21]"
      ]
     },
     "execution_count": 20,
     "metadata": {},
     "output_type": "execute_result"
    }
   ],
   "source": [
    "#methods of list\n",
    "li=[21,65,89,36]\n",
    "li\n",
    "\n",
    "li.append(29)#add  the new element at  end of list\n",
    "li.insert(2,56)#add the new item at the specific index\n",
    "li.append(21)\n",
    "li.count(21)\n",
    "li.index(56)#returns the value at that index\n",
    "li"
   ]
  },
  {
   "cell_type": "code",
   "execution_count": 22,
   "metadata": {},
   "outputs": [
    {
     "data": {
      "text/plain": [
       "[21, 29, 36, 56]"
      ]
     },
     "execution_count": 22,
     "metadata": {},
     "output_type": "execute_result"
    }
   ],
   "source": [
    "#method of list object\n",
    "li.sort()#sorts the list in assending order\n",
    "li.pop()#last index value\n",
    "li.pop(1)#remove the item from the specified index\n",
    "li\n"
   ]
  },
  {
   "cell_type": "code",
   "execution_count": 25,
   "metadata": {},
   "outputs": [
    {
     "name": "stdout",
     "output_type": "stream",
     "text": [
      "98\n",
      "32\n"
     ]
    }
   ],
   "source": [
    "#function to return the large number from the list\n",
    "def largenumber(li):\n",
    "    li.sort()\n",
    "    return li[-1]\n",
    "def genericlarge(li,n):\n",
    "    li.sort()\n",
    "    return li[-n]\n",
    "li=[87,98,54,32,6,8]\n",
    "print(largenumber(li))\n",
    "print(genericlarge(li,4))"
   ]
  },
  {
   "cell_type": "code",
   "execution_count": 27,
   "metadata": {},
   "outputs": [
    {
     "name": "stdout",
     "output_type": "stream",
     "text": [
      "4\n",
      "9\n"
     ]
    }
   ],
   "source": [
    "#function to find last and generic least number from the list\n",
    "def leastnumber(li):\n",
    "    li.sort()\n",
    "    return li[0]\n",
    "def genericleastnumber(li,n):\n",
    "    li.sort()\n",
    "    return li[n-1]\n",
    "li=[32,5,6,4,98,9]\n",
    "print(leastnumber(li))\n",
    "print(genericleastnumber(li,4))"
   ]
  },
  {
   "cell_type": "markdown",
   "metadata": {},
   "source": [
    "### File Handling inPython\n",
    "- File - documents which contains some information and resides on permanant devices\n",
    "- Different types of files--.txt,.pdf,.doc,.ppf and etc,...\n",
    "- input--keyboard\n",
    "- output-file system"
   ]
  },
  {
   "cell_type": "code",
   "execution_count": 80,
   "metadata": {},
   "outputs": [
    {
     "name": "stdout",
     "output_type": "stream",
     "text": [
      "file is successfully created and data has inserted \n"
     ]
    }
   ],
   "source": [
    "#function to create file and write some data to the file\n",
    "def createfile(python):\n",
    "    f=open(python,'w')\n",
    "    for i in range(10):\n",
    "        f.write('this is %d line \\n'%i)\n",
    "    print('file is successfully created and data has inserted ')\n",
    "    return\n",
    "createfile('data.txt')\n",
    "\n"
   ]
  },
  {
   "cell_type": "code",
   "execution_count": 81,
   "metadata": {},
   "outputs": [
    {
     "data": {
      "text/plain": [
       "'C:\\\\Users\\\\user\\\\Desktop\\\\problem solving and programming'"
      ]
     },
     "execution_count": 81,
     "metadata": {},
     "output_type": "execute_result"
    }
   ],
   "source": [
    "pwd"
   ]
  },
  {
   "cell_type": "code",
   "execution_count": 85,
   "metadata": {},
   "outputs": [
    {
     "name": "stdout",
     "output_type": "stream",
     "text": [
      "program completed successfully\n"
     ]
    }
   ],
   "source": [
    "def appendmode(python):\n",
    "    f=open(python,'a')\n",
    "    f.write('gitam vizag\\n')\n",
    "    f.write('python programming\\n')\n",
    "    print('program completed successfully')\n",
    "    return\n",
    "appendmode('data.txt')"
   ]
  },
  {
   "cell_type": "code",
   "execution_count": 86,
   "metadata": {
    "scrolled": true
   },
   "outputs": [
    {
     "name": "stdout",
     "output_type": "stream",
     "text": [
      "this is 0 line \n",
      "this is 1 line \n",
      "this is 2 line \n",
      "this is 3 line \n",
      "this is 4 line \n",
      "this is 5 line \n",
      "this is 6 line \n",
      "this is 7 line \n",
      "this is 8 line \n",
      "this is 9 line \n",
      "gitam vizagpython programming\n",
      "gitam vizag\n",
      "python programming\n",
      "\n"
     ]
    }
   ],
   "source": [
    "#function to read the \n",
    "def readfiledata(python):\n",
    "    f=open(python,'r')\n",
    "    if f.mode=='r':\n",
    "        a=f.read()\n",
    "        print(a)\n",
    "    f.close()\n",
    "    return\n",
    "readfiledata('data.txt')"
   ]
  },
  {
   "cell_type": "code",
   "execution_count": null,
   "metadata": {},
   "outputs": [],
   "source": [
    "#analysis on the file--word count,char,count,Digit count"
   ]
  },
  {
   "cell_type": "code",
   "execution_count": null,
   "metadata": {},
   "outputs": [],
   "source": [
    " def wordcount(python):\n",
    "        with open(python,'r')as f:\n",
    "            if f.mode=='r':\n",
    "                a=f.read()\n",
    "                li=a.split()\n",
    "        return len(li)\n",
    "wordcount('data.txt')"
   ]
  },
  {
   "cell_type": "code",
   "execution_count": 108,
   "metadata": {},
   "outputs": [
    {
     "data": {
      "text/plain": [
       "10"
      ]
     },
     "execution_count": 108,
     "metadata": {},
     "output_type": "execute_result"
    }
   ],
   "source": [
    "#psecific word count from the file\n",
    "#example #1:\n",
    "#input--this\n",
    "#output--10\n",
    "\n",
    "#example #2:\n",
    "#input--gitam\n",
    "#output--1\n",
    "def specificwordcount(filename,word):\n",
    "    with open(filename,\"r\")as f:\n",
    "        if f.mode==\"r\":\n",
    "            a=f.read()\n",
    "            li=a.split()\n",
    "    return li.count(word)\n",
    "specificwordcount('data.txt','this')"
   ]
  },
  {
   "cell_type": "code",
   "execution_count": null,
   "metadata": {},
   "outputs": [],
   "source": [
    " def charcount(python):\n",
    "        with open(python,'r')as f:\n",
    "            if f.mode=='r':\n",
    "                a=f.read()\n",
    "                li=list(a)\n",
    "        return len(li)\n",
    "charcount('data.txt')"
   ]
  },
  {
   "cell_type": "code",
   "execution_count": 110,
   "metadata": {},
   "outputs": [
    {
     "data": {
      "text/plain": [
       "47"
      ]
     },
     "execution_count": 110,
     "metadata": {},
     "output_type": "execute_result"
    }
   ],
   "source": [
    " def findlinecount(python):\n",
    "        with open(python,'r')as f:\n",
    "            if f.mode=='r':\n",
    "                a=f.read()\n",
    "                li=a.split()\n",
    "        return len(li)\n",
    "findlinecount('data.txt')"
   ]
  },
  {
   "cell_type": "code",
   "execution_count": null,
   "metadata": {},
   "outputs": [],
   "source": [
    "#Read the input as string and Output will followed\n",
    "#Example #1:\n",
    "#Input : orange \n",
    "#Output : puboif\n",
    "#Reason: Print the next consonent to the vowel and Print the vowel to the next consonent\n",
    "def"
   ]
  },
  {
   "cell_type": "code",
   "execution_count": 2,
   "metadata": {},
   "outputs": [
    {
     "name": "stdout",
     "output_type": "stream",
     "text": [
      "PYTHON"
     ]
    }
   ],
   "source": [
    "def alternateinLC(s):\n",
    "    cntspace=0\n",
    "    for i in range(len(s)):\n",
    "        if ord(s[i])==32:\n",
    "            cntspace+=1\n",
    "        if cntspace==1:\n",
    "            if ord(s[i])>=65 and ord(s[i])<=90:\n",
    "                 print(chr(ord(s[i])-32),end='')\n",
    "            elif ord(s[i])>=97 and ord(s[i])<=122:\n",
    "                print(s[i],end='') \n",
    "        if cntspace==2:\n",
    "            break\n",
    "    return\n",
    "secondwordinUC('Learn Python Programming EASy')"
   ]
  }
 ],
 "metadata": {
  "kernelspec": {
   "display_name": "Python 3",
   "language": "python",
   "name": "python3"
  },
  "language_info": {
   "codemirror_mode": {
    "name": "ipython",
    "version": 3
   },
   "file_extension": ".py",
   "mimetype": "text/x-python",
   "name": "python",
   "nbconvert_exporter": "python",
   "pygments_lexer": "ipython3",
   "version": "3.7.3"
  }
 },
 "nbformat": 4,
 "nbformat_minor": 2
}
